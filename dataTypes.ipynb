{
 "cells": [
  {
   "cell_type": "code",
   "execution_count": 7,
   "id": "dc09a7af",
   "metadata": {},
   "outputs": [
    {
     "name": "stdout",
     "output_type": "stream",
     "text": [
      "Amna\n",
      "punjab_housing_d_block_house-no287\n"
     ]
    }
   ],
   "source": [
    "Name = \"Amna\"\n",
    "address = \"punjab_housing_d_block_house-no287\"\n",
    "print(Name)\n",
    "print(address)"
   ]
  }
 ],
 "metadata": {
  "language_info": {
   "name": "python"
  }
 },
 "nbformat": 4,
 "nbformat_minor": 5
}
